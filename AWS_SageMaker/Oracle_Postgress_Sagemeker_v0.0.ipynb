{
 "cells": [
  {
   "cell_type": "code",
   "execution_count": 1,
   "id": "secure-pride",
   "metadata": {},
   "outputs": [],
   "source": [
    "## initialize the variables \n",
    "ip = 'aiorc.cqgrwtaxaib2.us-east-1.rds.amazonaws.com'         ## host of the oracle RDS instance\n",
    "port = 1521                                                  ## port of the oracle RDS instance\n",
    "SID = 'ORCL'  \n",
    "username = 'B4B4KE4'\n",
    "password = 'AI64732661(('\n",
    "Data_table=\"IRIS\"\n",
    "PATH=\"https://a02.s3.ca-central-1.amazonaws.com/ojdbc7.jar\"\n",
    "JdbcOracleUrl = 'jdbc:oracle:thin:{USER_NAME}/{PASSWORD}@//{URL}:{PORT}/{SID}'.format(USER_NAME=username,PASSWORD=password,URL=ip,PORT=port,SID=SID)"
   ]
  },
  {
   "cell_type": "code",
   "execution_count": 2,
   "id": "alone-yemen",
   "metadata": {},
   "outputs": [
    {
     "data": {
      "text/html": [
       "\n",
       "            <div>\n",
       "                <p><b>SparkSession - in-memory</b></p>\n",
       "                \n",
       "        <div>\n",
       "            <p><b>SparkContext</b></p>\n",
       "\n",
       "            <p><a href=\"http://ip-172-16-42-43.ca-central-1.compute.internal:4041\">Spark UI</a></p>\n",
       "\n",
       "            <dl>\n",
       "              <dt>Version</dt>\n",
       "                <dd><code>v2.3.4</code></dd>\n",
       "              <dt>Master</dt>\n",
       "                <dd><code>local[*]</code></dd>\n",
       "              <dt>AppName</dt>\n",
       "                <dd><code>pyspark-shell</code></dd>\n",
       "            </dl>\n",
       "        </div>\n",
       "        \n",
       "            </div>\n",
       "        "
      ],
      "text/plain": [
       "<pyspark.sql.session.SparkSession at 0x7f8714883ed0>"
      ]
     },
     "execution_count": 2,
     "metadata": {},
     "output_type": "execute_result"
    }
   ],
   "source": [
    "import os\n",
    "import boto3\n",
    "\n",
    "from pyspark import SparkContext, SparkConf\n",
    "from pyspark.sql import SparkSession\n",
    "\n",
    "import sagemaker\n",
    "from sagemaker import get_execution_role\n",
    "import sagemaker_pyspark\n",
    "\n",
    "role = get_execution_role()\n",
    "\n",
    "# Configure Spark to use the SageMaker Spark dependency jars\n",
    "jars = sagemaker_pyspark.classpath_jars()\n",
    "\n",
    "classpath = \":\".join(sagemaker_pyspark.classpath_jars())\n",
    "classpath=classpath+\":./ojdbc7.jar:./postgresql-42.1.0.jar\"\n",
    "# See the SageMaker Spark Github to learn how to connect to EMR from a notebook instance\n",
    "spark = SparkSession.builder.config(\"spark.driver.extraClassPath\", classpath)\\\n",
    "    .master(\"local[*]\").getOrCreate()\n",
    "    \n",
    "spark"
   ]
  },
  {
   "cell_type": "code",
   "execution_count": 13,
   "id": "atlantic-corner",
   "metadata": {},
   "outputs": [],
   "source": [
    "#classpath"
   ]
  },
  {
   "cell_type": "code",
   "execution_count": 4,
   "id": "beginning-research",
   "metadata": {},
   "outputs": [],
   "source": [
    "JdbcOracleUrl = 'jdbc:oracle:thin:{USER_NAME}/{PASSWORD}@//{URL}:{PORT}/{SID}'.format(USER_NAME=username,PASSWORD=password,URL=ip,PORT=port,SID=SID)\n",
    "\n",
    "TABLEDF = spark.read.format(\"jdbc\").option(\"url\",JdbcOracleUrl)\\\n",
    "            .option(\"dbtable\",Data_table).option(\"user\",username)\\\n",
    "            .option(\"password\",password)\\\n",
    "            .load()"
   ]
  },
  {
   "cell_type": "code",
   "execution_count": 5,
   "id": "searching-thumbnail",
   "metadata": {},
   "outputs": [
    {
     "name": "stdout",
     "output_type": "stream",
     "text": [
      "+------------+-----------+------------+-----------+-------+\n",
      "|SEPAL_LENGTH|SEPAL_WIDTH|PETAL_LENGTH|PETAL_WIDTH|VARIETY|\n",
      "+------------+-----------+------------+-----------+-------+\n",
      "|         5.1|        3.5|         1.4|        0.2| Setosa|\n",
      "|         4.9|        3.0|         1.4|        0.2| Setosa|\n",
      "|         4.7|        3.2|         1.3|        0.2| Setosa|\n",
      "|         4.6|        3.1|         1.5|        0.2| Setosa|\n",
      "|         5.0|        3.6|         1.4|        0.2| Setosa|\n",
      "|         5.4|        3.9|         1.7|        0.4| Setosa|\n",
      "|         4.6|        3.4|         1.4|        0.3| Setosa|\n",
      "|         5.0|        3.4|         1.5|        0.2| Setosa|\n",
      "|         4.4|        2.9|         1.4|        0.2| Setosa|\n",
      "|         4.9|        3.1|         1.5|        0.1| Setosa|\n",
      "+------------+-----------+------------+-----------+-------+\n",
      "only showing top 10 rows\n",
      "\n"
     ]
    }
   ],
   "source": [
    "TABLEDF.show(10)"
   ]
  },
  {
   "cell_type": "markdown",
   "id": "seeing-dylan",
   "metadata": {},
   "source": [
    "#### Postgres"
   ]
  },
  {
   "cell_type": "code",
   "execution_count": 7,
   "id": "presidential-seventh",
   "metadata": {},
   "outputs": [],
   "source": [
    "Postgres_HOST = 'aipost1.cqgrwtaxaib2.us-east-1.rds.amazonaws.com'\n",
    "Postgres_Port = '5432'\n",
    "Postgres_DB = 'postgres'\n",
    "Postgres_TableName = 'IRIS'\n",
    "Postgres_User_Name = 'B4B4KE4'\n",
    "Postgres_User_Password = 'AI64732661(('\n",
    "\n",
    "Postgres_Driver_Name = 'org.postgresql.Driver'\n",
    "JdbcPostgresUrl = 'jdbc:postgresql://{HOST}:{PORT}/{DB}'.format(HOST=Postgres_HOST,PORT=Postgres_Port,DB=Postgres_DB)"
   ]
  },
  {
   "cell_type": "code",
   "execution_count": 8,
   "id": "global-breast",
   "metadata": {},
   "outputs": [],
   "source": [
    "\"\"\"TABLEDF = spark.read.format(\"jdbc\").option(\"url\",JdbcPostgresUrl)\\\n",
    "            .option(\"dbtable\",Data_table).option(\"user\",username)\\\n",
    "            .option(\"password\",password)\\\n",
    "            .load()\n",
    "\n",
    "\n",
    "\"\"\"\n",
    "\n",
    "Postgres_TABLEDF = spark.read.format(\"jdbc\").option(\"url\",JdbcPostgresUrl)\\\n",
    "            .option(\"dbtable\",Postgres_TableName).option(\"user\",Postgres_User_Name)\\\n",
    "            .option(\"password\",Postgres_User_Password)\\\n",
    "            .load()"
   ]
  },
  {
   "cell_type": "code",
   "execution_count": 9,
   "id": "endless-asian",
   "metadata": {},
   "outputs": [
    {
     "name": "stdout",
     "output_type": "stream",
     "text": [
      "+------------+-----------+------------+-----------+-------+\n",
      "|SEPAL_LENGTH|SEPAL_WIDTH|PETAL_LENGTH|PETAL_WIDTH|VARIETY|\n",
      "+------------+-----------+------------+-----------+-------+\n",
      "|         5.1|        3.5|         1.4|        0.2| Setosa|\n",
      "|         4.9|        3.0|         1.4|        0.2| Setosa|\n",
      "|         4.7|        3.2|         1.3|        0.2| Setosa|\n",
      "|         4.6|        3.1|         1.5|        0.2| Setosa|\n",
      "|         5.0|        3.6|         1.4|        0.2| Setosa|\n",
      "|         5.4|        3.9|         1.7|        0.4| Setosa|\n",
      "|         4.6|        3.4|         1.4|        0.3| Setosa|\n",
      "|         5.0|        3.4|         1.5|        0.2| Setosa|\n",
      "|         4.4|        2.9|         1.4|        0.2| Setosa|\n",
      "|         4.9|        3.1|         1.5|        0.1| Setosa|\n",
      "|         5.4|        3.7|         1.5|        0.2| Setosa|\n",
      "|         4.8|        3.4|         1.6|        0.2| Setosa|\n",
      "|         4.8|        3.0|         1.4|        0.1| Setosa|\n",
      "|         4.3|        3.0|         1.1|        0.1| Setosa|\n",
      "|         5.8|        4.0|         1.2|        0.2| Setosa|\n",
      "|         5.7|        4.4|         1.5|        0.4| Setosa|\n",
      "|         5.4|        3.9|         1.3|        0.4| Setosa|\n",
      "|         5.1|        3.5|         1.4|        0.3| Setosa|\n",
      "|         5.7|        3.8|         1.7|        0.3| Setosa|\n",
      "|         5.1|        3.8|         1.5|        0.3| Setosa|\n",
      "+------------+-----------+------------+-----------+-------+\n",
      "only showing top 20 rows\n",
      "\n"
     ]
    }
   ],
   "source": [
    "Postgres_TABLEDF.show()"
   ]
  },
  {
   "cell_type": "code",
   "execution_count": 11,
   "id": "genuine-grant",
   "metadata": {},
   "outputs": [],
   "source": [
    "TABLEDF.write.jdbc(\n",
    "                url=JdbcPostgresUrl, \n",
    "                table=\"test_1\", \n",
    "                mode=\"overwrite\", \n",
    "                properties={\n",
    "                    \"user\":Postgres_User_Name, \n",
    "                    \"password\":Postgres_User_Password, \n",
    "                    \"driver\":Postgres_Driver_Name, \n",
    "                    \"client_encoding\":\"utf8\"\n",
    "                })"
   ]
  },
  {
   "cell_type": "code",
   "execution_count": 12,
   "id": "compact-botswana",
   "metadata": {},
   "outputs": [
    {
     "name": "stdout",
     "output_type": "stream",
     "text": [
      "+------------+-----------+------------+-----------+----------+\n",
      "|SEPAL_LENGTH|SEPAL_WIDTH|PETAL_LENGTH|PETAL_WIDTH|   VARIETY|\n",
      "+------------+-----------+------------+-----------+----------+\n",
      "|         5.1|        3.5|         1.4|        0.2|    Setosa|\n",
      "|         4.9|        3.0|         1.4|        0.2|    Setosa|\n",
      "|         4.7|        3.2|         1.3|        0.2|    Setosa|\n",
      "|         4.6|        3.1|         1.5|        0.2|    Setosa|\n",
      "|         5.0|        3.6|         1.4|        0.2|    Setosa|\n",
      "|         5.4|        3.9|         1.7|        0.4|    Setosa|\n",
      "|         4.6|        3.4|         1.4|        0.3|    Setosa|\n",
      "|         5.0|        3.4|         1.5|        0.2|    Setosa|\n",
      "|         4.4|        2.9|         1.4|        0.2|    Setosa|\n",
      "|         4.9|        3.1|         1.5|        0.1|    Setosa|\n",
      "|         5.4|        3.7|         1.5|        0.2|    Setosa|\n",
      "|         4.8|        3.4|         1.6|        0.2|    Setosa|\n",
      "|         4.8|        3.0|         1.4|        0.1|    Setosa|\n",
      "|         4.3|        3.0|         1.1|        0.1|    Setosa|\n",
      "|         5.8|        4.0|         1.2|        0.2|    Setosa|\n",
      "|         5.7|        4.4|         1.5|        0.4|    Setosa|\n",
      "|         5.4|        3.9|         1.3|        0.4|    Setosa|\n",
      "|         5.1|        3.5|         1.4|        0.3|    Setosa|\n",
      "|         5.7|        3.8|         1.7|        0.3|    Setosa|\n",
      "|         5.1|        3.8|         1.5|        0.3|    Setosa|\n",
      "|         5.4|        3.4|         1.7|        0.2|    Setosa|\n",
      "|         5.1|        3.7|         1.5|        0.4|    Setosa|\n",
      "|         4.6|        3.6|         1.0|        0.2|    Setosa|\n",
      "|         5.1|        3.3|         1.7|        0.5|    Setosa|\n",
      "|         4.8|        3.4|         1.9|        0.2|    Setosa|\n",
      "|         5.0|        3.0|         1.6|        0.2|    Setosa|\n",
      "|         5.0|        3.4|         1.6|        0.4|    Setosa|\n",
      "|         5.2|        3.5|         1.5|        0.2|    Setosa|\n",
      "|         5.2|        3.4|         1.4|        0.2|    Setosa|\n",
      "|         4.7|        3.2|         1.6|        0.2|    Setosa|\n",
      "|         4.8|        3.1|         1.6|        0.2|    Setosa|\n",
      "|         5.4|        3.4|         1.5|        0.4|    Setosa|\n",
      "|         5.2|        4.1|         1.5|        0.1|    Setosa|\n",
      "|         5.5|        4.2|         1.4|        0.2|    Setosa|\n",
      "|         4.9|        3.1|         1.5|        0.2|    Setosa|\n",
      "|         5.0|        3.2|         1.2|        0.2|    Setosa|\n",
      "|         5.5|        3.5|         1.3|        0.2|    Setosa|\n",
      "|         4.9|        3.6|         1.4|        0.1|    Setosa|\n",
      "|         4.4|        3.0|         1.3|        0.2|    Setosa|\n",
      "|         5.1|        3.4|         1.5|        0.2|    Setosa|\n",
      "|         5.0|        3.5|         1.3|        0.3|    Setosa|\n",
      "|         4.5|        2.3|         1.3|        0.3|    Setosa|\n",
      "|         4.4|        3.2|         1.3|        0.2|    Setosa|\n",
      "|         5.0|        3.5|         1.6|        0.6|    Setosa|\n",
      "|         5.1|        3.8|         1.9|        0.4|    Setosa|\n",
      "|         4.8|        3.0|         1.4|        0.3|    Setosa|\n",
      "|         5.1|        3.8|         1.6|        0.2|    Setosa|\n",
      "|         4.6|        3.2|         1.4|        0.2|    Setosa|\n",
      "|         5.3|        3.7|         1.5|        0.2|    Setosa|\n",
      "|         5.0|        3.3|         1.4|        0.2|    Setosa|\n",
      "|         7.0|        3.2|         4.7|        1.4|Versicolor|\n",
      "|         6.4|        3.2|         4.5|        1.5|Versicolor|\n",
      "|         6.9|        3.1|         4.9|        1.5|Versicolor|\n",
      "|         5.5|        2.3|         4.0|        1.3|Versicolor|\n",
      "|         6.5|        2.8|         4.6|        1.5|Versicolor|\n",
      "+------------+-----------+------------+-----------+----------+\n",
      "only showing top 55 rows\n",
      "\n"
     ]
    }
   ],
   "source": [
    "Postgres_TABLEDF = spark.read.format(\"jdbc\").option(\"url\",JdbcPostgresUrl)\\\n",
    "            .option(\"dbtable\",\"test_1\").option(\"user\",Postgres_User_Name)\\\n",
    "            .option(\"password\",Postgres_User_Password)\\\n",
    "            .load().show(55)"
   ]
  }
 ],
 "metadata": {
  "kernelspec": {
   "display_name": "conda_mxnet_latest_p37",
   "language": "python",
   "name": "conda_mxnet_latest_p37"
  },
  "language_info": {
   "codemirror_mode": {
    "name": "ipython",
    "version": 3
   },
   "file_extension": ".py",
   "mimetype": "text/x-python",
   "name": "python",
   "nbconvert_exporter": "python",
   "pygments_lexer": "ipython3",
   "version": "3.7.10"
  }
 },
 "nbformat": 4,
 "nbformat_minor": 5
}
